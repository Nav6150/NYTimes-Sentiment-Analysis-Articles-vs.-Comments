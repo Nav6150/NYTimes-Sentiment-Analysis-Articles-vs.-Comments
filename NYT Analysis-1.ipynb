{
 "cells": [
  {
   "cell_type": "code",
   "execution_count": 1,
   "metadata": {},
   "outputs": [],
   "source": [
    "!pip install pynytimes --quiet\n",
    "# https://github.com/michadenheijer/pynytimes"
   ]
  },
  {
   "cell_type": "code",
   "execution_count": 2,
   "metadata": {},
   "outputs": [],
   "source": [
    "from pynytimes import NYTAPI\n",
    "import pandas as pd\n",
    "import glob\n",
    "from ast import literal_eval\n",
    "import matplotlib.pyplot as plt\n",
    "plt.style.use('dark_background')\n",
    "pd.options.display.max_colwidth = 100\n",
    "import nltk\n",
    "from nltk.corpus import stopwords\n",
    "from datetime import datetime, timedelta"
   ]
  },
  {
   "cell_type": "code",
   "execution_count": 3,
   "metadata": {},
   "outputs": [],
   "source": [
    "nyt = NYTAPI(\"a03qiFO9FwyMSp0po7kHavUoCNGTXpmY\", parse_dates=True)"
   ]
  },
  {
   "cell_type": "code",
   "execution_count": 4,
   "metadata": {},
   "outputs": [
    {
     "name": "stdout",
     "output_type": "stream",
     "text": [
      "<class 'pandas.core.frame.DataFrame'>\n",
      "RangeIndex: 10 entries, 0 to 9\n",
      "Data columns (total 20 columns):\n",
      " #   Column            Non-Null Count  Dtype              \n",
      "---  ------            --------------  -----              \n",
      " 0   abstract          10 non-null     object             \n",
      " 1   web_url           10 non-null     object             \n",
      " 2   snippet           10 non-null     object             \n",
      " 3   lead_paragraph    10 non-null     object             \n",
      " 4   print_section     8 non-null      object             \n",
      " 5   print_page        8 non-null      object             \n",
      " 6   source            10 non-null     object             \n",
      " 7   multimedia        10 non-null     object             \n",
      " 8   headline          10 non-null     object             \n",
      " 9   keywords          10 non-null     object             \n",
      " 10  pub_date          10 non-null     datetime64[ns, UTC]\n",
      " 11  document_type     10 non-null     object             \n",
      " 12  news_desk         10 non-null     object             \n",
      " 13  section_name      10 non-null     object             \n",
      " 14  byline            10 non-null     object             \n",
      " 15  type_of_material  10 non-null     object             \n",
      " 16  _id               10 non-null     object             \n",
      " 17  word_count        10 non-null     int64              \n",
      " 18  uri               10 non-null     object             \n",
      " 19  subsection_name   7 non-null      object             \n",
      "dtypes: datetime64[ns, UTC](1), int64(1), object(18)\n",
      "memory usage: 1.7+ KB\n",
      "None\n",
      "                                                                                              abstract  \\\n",
      "0  What he’s doing with import fees is a result of a lost consensus about how the United States sho...   \n",
      "1  The president said his advisers would devise new tariff levels reflecting countries’ tariffs, ta...   \n",
      "2  The president signed executive orders placing tariffs on Canada, Mexico and China that were set ...   \n",
      "3  Canadian officials are preparing retaliatory measures if the new U.S. administration imposes tar...   \n",
      "4  The president said he planned to put tariffs on America’s neighbors on Feb. 1, as he signed an e...   \n",
      "\n",
      "                                                                                 web_url  \\\n",
      "0             https://www.nytimes.com/2025/02/14/opinion/trump-tariffs-china-mexico.html   \n",
      "1                      https://www.nytimes.com/2025/02/13/us/politics/trump-tariffs.html   \n",
      "2  https://www.nytimes.com/2025/02/01/us/politics/canada-mexico-china-trump-tariffs.html   \n",
      "3              https://www.nytimes.com/2025/01/17/world/canada/canada-trump-tariffs.html   \n",
      "4      https://www.nytimes.com/2025/01/20/us/politics/trump-tariffs-executive-order.html   \n",
      "\n",
      "                                                                                               snippet  \\\n",
      "0  What he’s doing with import fees is a result of a lost consensus about how the United States sho...   \n",
      "1  The president said his advisers would devise new tariff levels reflecting countries’ tariffs, ta...   \n",
      "2  The president signed executive orders placing tariffs on Canada, Mexico and China that were set ...   \n",
      "3  Canadian officials are preparing retaliatory measures if the new U.S. administration imposes tar...   \n",
      "4  The president said he planned to put tariffs on America’s neighbors on Feb. 1, as he signed an e...   \n",
      "\n",
      "                                                                                        lead_paragraph  \\\n",
      "0  President Trump has lost no time asserting control over American trade policy, seemingly willing...   \n",
      "1  President Trump on Thursday set in motion a plan for new tariffs on other countries globally, an...   \n",
      "2  President Trump on Saturday followed through with his threat to impose stiff tariffs on Mexico, ...   \n",
      "3                      Orange juice from Florida. Whiskey from Tennessee. Peanut butter from Kentucky.   \n",
      "4  President Trump said on Monday night that he planned to impose a 25 percent tariff on products f...   \n",
      "\n",
      "  print_section print_page              source  \\\n",
      "0             A         17  The New York Times   \n",
      "1             A          1  The New York Times   \n",
      "2             A          1  The New York Times   \n",
      "3             A          7  The New York Times   \n",
      "4           NaN        NaN  The New York Times   \n",
      "\n",
      "                                                                                            multimedia  \\\n",
      "0  [{'rank': 0, 'subtype': 'xlarge', 'caption': None, 'credit': None, 'type': 'image', 'url': 'imag...   \n",
      "1  [{'rank': 0, 'subtype': 'xlarge', 'caption': None, 'credit': None, 'type': 'image', 'url': 'imag...   \n",
      "2  [{'rank': 0, 'subtype': 'xlarge', 'caption': None, 'credit': None, 'type': 'image', 'url': 'imag...   \n",
      "3  [{'rank': 0, 'subtype': 'xlarge', 'caption': None, 'credit': None, 'type': 'image', 'url': 'imag...   \n",
      "4  [{'rank': 0, 'subtype': 'xlarge', 'caption': None, 'credit': None, 'type': 'image', 'url': 'imag...   \n",
      "\n",
      "                                                                                              headline  \\\n",
      "0  {'main': 'Trump Isn’t the Only One to Blame for the Tariff Mess', 'kicker': 'Guest Essay', 'cont...   \n",
      "1  {'main': 'Trump Says He’ll Rework Global Trading Relations With ‘Reciprocal’ Tariffs', 'kicker':...   \n",
      "2  {'main': 'Trump Signs Orders Imposing Tariffs on Canada, Mexico and China', 'kicker': None, 'con...   \n",
      "3  {'main': 'Canada’s Plan for a Trade War: Pain for Red States and Trump Allies', 'kicker': None, ...   \n",
      "4  {'main': 'Trump Promises Tariffs on Canada and Mexico, and Paves Way for Further Trade Action', ...   \n",
      "\n",
      "                                                                                              keywords  \\\n",
      "0  [{'name': 'subject', 'value': 'Protectionism (Trade)', 'rank': 1, 'major': 'N'}, {'name': 'subje...   \n",
      "1  [{'name': 'subject', 'value': 'International Trade and World Market', 'rank': 1, 'major': 'N'}, ...   \n",
      "2  [{'name': 'subject', 'value': 'Protectionism (Trade)', 'rank': 1, 'major': 'N'}, {'name': 'subje...   \n",
      "3  [{'name': 'subject', 'value': 'International Trade and World Market', 'rank': 1, 'major': 'N'}, ...   \n",
      "4  [{'name': 'subject', 'value': 'Protectionism (Trade)', 'rank': 1, 'major': 'N'}, {'name': 'subje...   \n",
      "\n",
      "                   pub_date document_type   news_desk section_name  \\\n",
      "0 2025-02-14 10:01:54+00:00       article        OpEd      Opinion   \n",
      "1 2025-02-13 18:54:49+00:00       article  Washington         U.S.   \n",
      "2 2025-02-01 13:53:38+00:00       article  Washington         U.S.   \n",
      "3 2025-01-17 20:42:06+00:00       article     Foreign        World   \n",
      "4 2025-01-20 18:41:38+00:00       article  Washington         U.S.   \n",
      "\n",
      "                                                                                                byline  \\\n",
      "0  {'original': 'By Mary E. Lovely', 'person': [{'firstname': 'Mary', 'middlename': 'E.', 'lastname...   \n",
      "1  {'original': 'By Ana Swanson', 'person': [{'firstname': 'Ana', 'middlename': None, 'lastname': '...   \n",
      "2  {'original': 'By Ana Swanson, Alan Rappeport and David E. Sanger', 'person': [{'firstname': 'Ana...   \n",
      "3  {'original': 'By Matina Stevis-Gridneff', 'person': [{'firstname': 'Matina', 'middlename': None,...   \n",
      "4  {'original': 'By Ana Swanson', 'person': [{'firstname': 'Ana', 'middlename': None, 'lastname': '...   \n",
      "\n",
      "  type_of_material                                                 _id  \\\n",
      "0            Op-Ed  nyt://article/f78de78e-c05f-5451-8bc9-881c2c1005fa   \n",
      "1             News  nyt://article/e6915c56-e5f4-59d4-9cb4-90a17bb369b4   \n",
      "2             News  nyt://article/0c14d559-6991-5e0b-87bc-4b214f2a51ac   \n",
      "3             News  nyt://article/f3e16e69-97bf-592e-b447-43cd7899718e   \n",
      "4             News  nyt://article/9ebc0041-6d71-54c1-a962-16c7c5216526   \n",
      "\n",
      "   word_count                                                 uri  \\\n",
      "0        1186  nyt://article/f78de78e-c05f-5451-8bc9-881c2c1005fa   \n",
      "1        1794  nyt://article/e6915c56-e5f4-59d4-9cb4-90a17bb369b4   \n",
      "2        1657  nyt://article/0c14d559-6991-5e0b-87bc-4b214f2a51ac   \n",
      "3        1077  nyt://article/f3e16e69-97bf-592e-b447-43cd7899718e   \n",
      "4        1062  nyt://article/9ebc0041-6d71-54c1-a962-16c7c5216526   \n",
      "\n",
      "  subsection_name  \n",
      "0             NaN  \n",
      "1        Politics  \n",
      "2        Politics  \n",
      "3          Canada  \n",
      "4        Politics  \n"
     ]
    }
   ],
   "source": [
    "from datetime import datetime, timedelta\n",
    "import pandas as pd\n",
    "\n",
    "# Calculate the start and end date (past 100 days)\n",
    "start_date = (datetime.today() - timedelta(days=100)).date()\n",
    "end_date = datetime.today().date()\n",
    "\n",
    "# Define multiple queries related to Tariffs\n",
    "articles = nyt.article_search(\n",
    "    query=\" OR \".join([\"Tariffs\", \"Trade Policy\", \"Import Tax\", \"Trade War\"]),\n",
    "    dates={\"begin\": start_date, \"end\": end_date},\n",
    "    results=10\n",
    ")\n",
    "\n",
    "# Convert to DataFrame\n",
    "df = pd.DataFrame(articles)\n",
    "\n",
    "# Display DataFrame info to confirm data is collected\n",
    "print(df.info())\n",
    "print(df.head())  # Show first few rows"
   ]
  },
  {
   "cell_type": "code",
   "execution_count": 5,
   "metadata": {},
   "outputs": [
    {
     "name": "stdout",
     "output_type": "stream",
     "text": [
      "10\n"
     ]
    }
   ],
   "source": [
    "print(len(articles))  # Check how many articles were retrieved"
   ]
  },
  {
   "cell_type": "code",
   "execution_count": 6,
   "metadata": {},
   "outputs": [],
   "source": [
    "#most_viewed = nyt.most_viewed(days = 30)\n",
    "#df = pd.DataFrame.from_dict(most_viewed)"
   ]
  },
  {
   "cell_type": "code",
   "execution_count": 7,
   "metadata": {},
   "outputs": [],
   "source": [
    "df.head()\n",
    "df.to_csv('currentarticles.csv')"
   ]
  },
  {
   "cell_type": "code",
   "execution_count": 8,
   "metadata": {},
   "outputs": [
    {
     "name": "stdout",
     "output_type": "stream",
     "text": [
      "Index(['abstract', 'web_url', 'snippet', 'lead_paragraph', 'print_section',\n",
      "       'print_page', 'source', 'multimedia', 'headline', 'keywords',\n",
      "       'pub_date', 'document_type', 'news_desk', 'section_name', 'byline',\n",
      "       'type_of_material', '_id', 'word_count', 'uri', 'subsection_name'],\n",
      "      dtype='object')\n"
     ]
    }
   ],
   "source": [
    "print(df.columns)"
   ]
  },
  {
   "cell_type": "code",
   "execution_count": 9,
   "metadata": {},
   "outputs": [
    {
     "name": "stdout",
     "output_type": "stream",
     "text": [
      "customs (tariff)                         10\n",
      "protectionism (trade)                     9\n",
      "international trade and world market      9\n",
      "trump, donald j                           9\n",
      "canada                                    7\n",
      "china                                     6\n",
      "mexico                                    6\n",
      "united states international relations     5\n",
      "united states economy                     5\n",
      "executive orders and memorandums          5\n",
      "united states politics and government     4\n",
      "united states                             3\n",
      "prices (fares, fees and rates)            3\n",
      "inflation (economics)                     2\n",
      "europe                                    2\n",
      "european union                            2\n",
      "illegal immigration                       2\n",
      "world trade organization                  2\n",
      "united states-mexico-canada agreement     2\n",
      "Name: count, dtype: int64\n"
     ]
    }
   ],
   "source": [
    "keyword_counts = pd.Series(\n",
    "    x['value'].lower() for l in df['keywords'] if isinstance(l, list) for x in l\n",
    ").value_counts(ascending=False)\n",
    "\n",
    "keyword_counts = keyword_counts[keyword_counts >= 2]\n",
    "print(keyword_counts)"
   ]
  },
  {
   "cell_type": "code",
   "execution_count": 10,
   "metadata": {},
   "outputs": [
    {
     "data": {
      "text/plain": [
       "customs (tariff)                         10\n",
       "protectionism (trade)                     9\n",
       "international trade and world market      9\n",
       "trump, donald j                           9\n",
       "canada                                    7\n",
       "china                                     6\n",
       "mexico                                    6\n",
       "united states international relations     5\n",
       "united states economy                     5\n",
       "executive orders and memorandums          5\n",
       "united states politics and government     4\n",
       "united states                             3\n",
       "prices (fares, fees and rates)            3\n",
       "inflation (economics)                     2\n",
       "europe                                    2\n",
       "european union                            2\n",
       "illegal immigration                       2\n",
       "world trade organization                  2\n",
       "united states-mexico-canada agreement     2\n",
       "Name: count, dtype: int64"
      ]
     },
     "execution_count": 10,
     "metadata": {},
     "output_type": "execute_result"
    }
   ],
   "source": [
    "keyword_counts.head(25)"
   ]
  },
  {
   "cell_type": "code",
   "execution_count": 11,
   "metadata": {},
   "outputs": [],
   "source": [
    "#pd_keywords = keyword_counts.to_frame()\n",
    "\n",
    "pd_keywords = pd.DataFrame({'keywords':keyword_counts.index, 'frequencies':keyword_counts.values})"
   ]
  },
  {
   "cell_type": "code",
   "execution_count": 12,
   "metadata": {},
   "outputs": [
    {
     "data": {
      "text/html": [
       "<div>\n",
       "<style scoped>\n",
       "    .dataframe tbody tr th:only-of-type {\n",
       "        vertical-align: middle;\n",
       "    }\n",
       "\n",
       "    .dataframe tbody tr th {\n",
       "        vertical-align: top;\n",
       "    }\n",
       "\n",
       "    .dataframe thead th {\n",
       "        text-align: right;\n",
       "    }\n",
       "</style>\n",
       "<table border=\"1\" class=\"dataframe\">\n",
       "  <thead>\n",
       "    <tr style=\"text-align: right;\">\n",
       "      <th></th>\n",
       "      <th>keywords</th>\n",
       "      <th>frequencies</th>\n",
       "    </tr>\n",
       "  </thead>\n",
       "  <tbody>\n",
       "    <tr>\n",
       "      <th>0</th>\n",
       "      <td>customs (tariff)</td>\n",
       "      <td>10</td>\n",
       "    </tr>\n",
       "    <tr>\n",
       "      <th>1</th>\n",
       "      <td>protectionism (trade)</td>\n",
       "      <td>9</td>\n",
       "    </tr>\n",
       "    <tr>\n",
       "      <th>2</th>\n",
       "      <td>international trade and world market</td>\n",
       "      <td>9</td>\n",
       "    </tr>\n",
       "    <tr>\n",
       "      <th>3</th>\n",
       "      <td>trump, donald j</td>\n",
       "      <td>9</td>\n",
       "    </tr>\n",
       "    <tr>\n",
       "      <th>4</th>\n",
       "      <td>canada</td>\n",
       "      <td>7</td>\n",
       "    </tr>\n",
       "  </tbody>\n",
       "</table>\n",
       "</div>"
      ],
      "text/plain": [
       "                               keywords  frequencies\n",
       "0                      customs (tariff)           10\n",
       "1                 protectionism (trade)            9\n",
       "2  international trade and world market            9\n",
       "3                       trump, donald j            9\n",
       "4                                canada            7"
      ]
     },
     "execution_count": 12,
     "metadata": {},
     "output_type": "execute_result"
    }
   ],
   "source": [
    "pd_keywords.head()"
   ]
  },
  {
   "cell_type": "code",
   "execution_count": 13,
   "metadata": {},
   "outputs": [
    {
     "data": {
      "image/png": "[encoded data removed]",
      "text/plain": [
       "<Figure size 1000x500 with 1 Axes>"
      ]
     },
     "metadata": {},
     "output_type": "display_data"
    }
   ],
   "source": [
    "#keyword_counts_list = list(keyword_counts.keys())\n",
    "#frequencies = []\n",
    "#for keyword in deaf_keywords:\n",
    "#    index = keyword_counts_list.index(keyword)\n",
    "#    frequencies.append(keyword_counts.iloc[index])\n",
    "    \n",
    "plt.figure(figsize=(10, 5))\n",
    "plt.barh(pd_keywords['keywords'], pd_keywords['frequencies'])\n",
    "plt.title('NYT keyword frequency')\n",
    "plt.show()"
   ]
  },
  {
   "cell_type": "code",
   "execution_count": null,
   "metadata": {},
   "outputs": [],
   "source": []
  }
 ],
 "metadata": {
  "kernelspec": {
   "display_name": "Python 3 (ipykernel)",
   "language": "python",
   "name": "python3"
  },
  "language_info": {
   "codemirror_mode": {
    "name": "ipython",
    "version": 3
   },
   "file_extension": ".py",
   "mimetype": "text/x-python",
   "name": "python",
   "nbconvert_exporter": "python",
   "pygments_lexer": "ipython3",
   "version": "3.12.7"
  }
 },
 "nbformat": 4,
 "nbformat_minor": 4
}
